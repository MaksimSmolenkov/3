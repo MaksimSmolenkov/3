{
  "nbformat": 4,
  "nbformat_minor": 0,
  "metadata": {
    "colab": {
      "provenance": [],
      "authorship_tag": "ABX9TyMHe8E6KVcSPmXJGjiMZ/Cw",
      "include_colab_link": true
    },
    "kernelspec": {
      "name": "python3",
      "display_name": "Python 3"
    },
    "language_info": {
      "name": "python"
    }
  },
  "cells": [
    {
      "cell_type": "markdown",
      "metadata": {
        "id": "view-in-github",
        "colab_type": "text"
      },
      "source": [
        "<a href=\"https://colab.research.google.com/github/MaksimSmolenkov/3/blob/main/Untitled0.ipynb\" target=\"_parent\"><img src=\"https://colab.research.google.com/assets/colab-badge.svg\" alt=\"Open In Colab\"/></a>"
      ]
    },
    {
      "cell_type": "code",
      "source": [
        "def matout(mat, name):\n",
        "  print(f'{name} = ')\n",
        "  for row in mat:\n",
        "    for e in row:\n",
        "      print(round(e,4), end = '\\t')\n",
        "    print()\n",
        "  print()\n"
      ],
      "metadata": {
        "id": "j3Z4dzpKLyIH"
      },
      "execution_count": 127,
      "outputs": []
    },
    {
      "cell_type": "code",
      "execution_count": 128,
      "metadata": {
        "colab": {
          "base_uri": "https://localhost:8080/"
        },
        "id": "9S2cgYkZ1gqM",
        "outputId": "16002468-bb58-409d-8f22-e1c5f68c0e44"
      },
      "outputs": [
        {
          "output_type": "stream",
          "name": "stdout",
          "text": [
            "[10 12 14 16 18 20 22 24 26 28 30 32 34 36 38 40 42 44 46 48 50 52 54 56\n",
            " 58 60 62 64 66 68]\n"
          ]
        }
      ],
      "source": [
        "import numpy\n",
        "\n",
        "my_array = numpy.array(range(10, 70, 2))\n",
        "print(my_array)  #1 задание"
      ]
    },
    {
      "cell_type": "code",
      "source": [
        "a = my_array.reshape(6,5) #2 задание\n",
        "a = numpy.transpose(a)\n",
        "matout(a, 'A')\n"
      ],
      "metadata": {
        "colab": {
          "base_uri": "https://localhost:8080/"
        },
        "id": "IswpWYBa2qe9",
        "outputId": "308f2842-b766-4647-ab83-0cd391c10c41"
      },
      "execution_count": 129,
      "outputs": [
        {
          "output_type": "stream",
          "name": "stdout",
          "text": [
            "A = \n",
            "10\t20\t30\t40\t50\t60\t\n",
            "12\t22\t32\t42\t52\t62\t\n",
            "14\t24\t34\t44\t54\t64\t\n",
            "16\t26\t36\t46\t56\t66\t\n",
            "18\t28\t38\t48\t58\t68\t\n",
            "\n"
          ]
        }
      ]
    },
    {
      "cell_type": "code",
      "source": [
        "a = a*2.5\n",
        "a = numpy.array(a, dtype = int)  #3 задание\n",
        "matout(a, 'A')\n",
        "print()\n",
        "a[0,:]-=5\n",
        "matout(a, 'A')"
      ],
      "metadata": {
        "colab": {
          "base_uri": "https://localhost:8080/"
        },
        "id": "fF4oUVCH5gE9",
        "outputId": "328818cd-75a0-492f-b560-c309b6dc8041"
      },
      "execution_count": 130,
      "outputs": [
        {
          "output_type": "stream",
          "name": "stdout",
          "text": [
            "A = \n",
            "25\t50\t75\t100\t125\t150\t\n",
            "30\t55\t80\t105\t130\t155\t\n",
            "35\t60\t85\t110\t135\t160\t\n",
            "40\t65\t90\t115\t140\t165\t\n",
            "45\t70\t95\t120\t145\t170\t\n",
            "\n",
            "\n",
            "A = \n",
            "20\t45\t70\t95\t120\t145\t\n",
            "30\t55\t80\t105\t130\t155\t\n",
            "35\t60\t85\t110\t135\t160\t\n",
            "40\t65\t90\t115\t140\t165\t\n",
            "45\t70\t95\t120\t145\t170\t\n",
            "\n"
          ]
        }
      ]
    },
    {
      "cell_type": "code",
      "source": [
        "import random #4\n",
        "\n",
        "b = numpy.random.random((6,3)) * 10\n",
        "\n",
        "matout(b, 'B')\n"
      ],
      "metadata": {
        "colab": {
          "base_uri": "https://localhost:8080/"
        },
        "id": "-xOOjCp88cX9",
        "outputId": "9380c3a3-a5e2-4d2a-ad4b-bbdbd1c0aae0"
      },
      "execution_count": 131,
      "outputs": [
        {
          "output_type": "stream",
          "name": "stdout",
          "text": [
            "B = \n",
            "6.1434\t8.7363\t3.5894\t\n",
            "1.4451\t3.4735\t1.0963\t\n",
            "6.8742\t2.3165\t7.4999\t\n",
            "6.2563\t6.4416\t5.892\t\n",
            "7.9414\t4.7406\t4.7851\t\n",
            "5.8399\t2.4185\t0.0618\t\n",
            "\n"
          ]
        }
      ]
    },
    {
      "cell_type": "code",
      "source": [
        "a1 = numpy.sum(a, axis = 1) #5\n",
        "b1 = numpy.sum(b, axis = 0)\n",
        "print(\"Размер а: \", a1.size)\n",
        "print(\"Размер b: \", b1.size)"
      ],
      "metadata": {
        "colab": {
          "base_uri": "https://localhost:8080/"
        },
        "id": "cjS5GWNUBHWj",
        "outputId": "6aef244c-0508-42e2-b2d9-791600888144"
      },
      "execution_count": 132,
      "outputs": [
        {
          "output_type": "stream",
          "name": "stdout",
          "text": [
            "Размер а:  5\n",
            "Размер b:  3\n"
          ]
        }
      ]
    },
    {
      "cell_type": "code",
      "source": [
        "c = a @ b     #6\n",
        "matout(c, 'C')"
      ],
      "metadata": {
        "colab": {
          "base_uri": "https://localhost:8080/"
        },
        "id": "0gXbU9HPDpdz",
        "outputId": "f55b0488-d25d-4bc6-b84f-9a07c401aafd"
      },
      "execution_count": 133,
      "outputs": [
        {
          "output_type": "stream",
          "name": "stdout",
          "text": [
            "C = \n",
            "3063.1805\t2024.6923\t1789.0245\t\n",
            "3408.1819\t2305.9619\t2018.2698\t\n",
            "3580.6826\t2446.5967\t2132.8924\t\n",
            "3753.1833\t2587.2315\t2247.5151\t\n",
            "3925.6841\t2727.8663\t2362.1377\t\n",
            "\n"
          ]
        }
      ]
    },
    {
      "cell_type": "code",
      "source": [
        "a = numpy.delete(a, 2, 1) #7\n",
        "matout(a, 'A')\n",
        "b = numpy.append(b, numpy.random.randint(10, 21, (6,3)), axis=1)\n",
        "matout(b, 'B')"
      ],
      "metadata": {
        "id": "cKaIU-oUD6Mb",
        "colab": {
          "base_uri": "https://localhost:8080/"
        },
        "outputId": "0cfa09dc-4498-4616-a267-aae464db5121"
      },
      "execution_count": 134,
      "outputs": [
        {
          "output_type": "stream",
          "name": "stdout",
          "text": [
            "A = \n",
            "20\t45\t95\t120\t145\t\n",
            "30\t55\t105\t130\t155\t\n",
            "35\t60\t110\t135\t160\t\n",
            "40\t65\t115\t140\t165\t\n",
            "45\t70\t120\t145\t170\t\n",
            "\n",
            "B = \n",
            "6.1434\t8.7363\t3.5894\t17.0\t19.0\t12.0\t\n",
            "1.4451\t3.4735\t1.0963\t17.0\t16.0\t19.0\t\n",
            "6.8742\t2.3165\t7.4999\t15.0\t18.0\t13.0\t\n",
            "6.2563\t6.4416\t5.892\t19.0\t20.0\t13.0\t\n",
            "7.9414\t4.7406\t4.7851\t11.0\t18.0\t11.0\t\n",
            "5.8399\t2.4185\t0.0618\t15.0\t20.0\t15.0\t\n",
            "\n"
          ]
        }
      ]
    },
    {
      "cell_type": "code",
      "source": [
        "#8\n",
        "deta = numpy.linalg.det(a)\n",
        "print(deta)\n",
        "detb = numpy.linalg.det(b)\n",
        "print(detb)\n",
        "if deta == 0:\n",
        "  print(\"У матрицы а нет орбатной\")\n",
        "else:\n",
        "  print(numpy.linalg.inv(a))\n",
        "\n",
        "if detb == 0:\n",
        "  print(\"У матрицы b нет орбатной\")\n",
        "else:\n",
        "  matout(numpy.linalg.inv(b), 'b обратная')"
      ],
      "metadata": {
        "colab": {
          "base_uri": "https://localhost:8080/"
        },
        "id": "pFuG3ps4JI0c",
        "outputId": "5fc339b2-ebd2-4972-80c8-bcf9e0e795fc"
      },
      "execution_count": 135,
      "outputs": [
        {
          "output_type": "stream",
          "name": "stdout",
          "text": [
            "0.0\n",
            "8603.090068574891\n",
            "У матрицы а нет орбатной\n",
            "b обратная = \n",
            "2.4393\t-0.4172\t2.0937\t-2.8698\t-1.4866\t0.3398\t\n",
            "0.1124\t0.0639\t-0.1176\t-0.0331\t0.1279\t-0.134\t\n",
            "-0.6757\t0.1303\t-0.4459\t0.7551\t0.458\t-0.2284\t\n",
            "0.8977\t-0.1859\t0.7951\t-0.9084\t-0.7607\t0.1734\t\n",
            "-1.8168\t0.2158\t-1.5594\t2.1057\t1.1666\t-0.1489\t\n",
            "0.5596\t0.0498\t0.4897\t-0.7797\t-0.2385\t-0.0179\t\n",
            "\n"
          ]
        }
      ]
    },
    {
      "cell_type": "code",
      "source": [
        "#9\n",
        "matout(numpy.linalg.matrix_power(a, 6), 'A')\n",
        "print()\n",
        "matout(numpy.linalg.matrix_power(b, 14), 'B')"
      ],
      "metadata": {
        "colab": {
          "base_uri": "https://localhost:8080/"
        },
        "id": "SWdEaXEKKCV9",
        "outputId": "61e0ce96-05fd-48f9-e83b-7f057c80ed6b"
      },
      "execution_count": 136,
      "outputs": [
        {
          "output_type": "stream",
          "name": "stdout",
          "text": [
            "A = \n",
            "1129241703375000\t1876213300640625\t3370156495171875\t4117128092437500\t4864099689703125\t\n",
            "1256417141625000\t2087512856859375\t3749704287328125\t4580800002562500\t5411895717796875\t\n",
            "1320004860750000\t2193162634968750\t3939478183406250\t4812635957625000\t5685793731843750\t\n",
            "1383592579875000\t2298812413078125\t4129252079484375\t5044471912687500\t5959691745890625\t\n",
            "1447180299000000\t2404462191187500\t4319025975562500\t5276307867750000\t6233589759937500\t\n",
            "\n",
            "\n",
            "B = \n",
            "1.391404570487834e+24\t1.0595537156240222e+24\t8.372956111990256e+23\t3.3219269161918697e+24\t4.1435880604308004e+24\t2.8962489567710564e+24\t\n",
            "1.2100769658463195e+24\t9.214728573904038e+23\t7.281793909595259e+23\t2.889013971040271e+24\t3.603596376088632e+24\t2.518810290177707e+24\t\n",
            "1.3182239829714575e+24\t1.00382674371437e+24\t7.932582506411692e+23\t3.147210971908168e+24\t3.9256570466050337e+24\t2.7439214420095113e+24\t\n",
            "1.4847540222161683e+24\t1.1306392650954728e+24\t8.934698454209052e+23\t3.544795277332411e+24\t4.421581738066663e+24\t3.0905585471790514e+24\t\n",
            "1.1969569053240362e+24\t9.114819394572353e+23\t7.20284225651782e+23\t2.857690312116435e+24\t3.564524974940939e+24\t2.4915005037889036e+24\t\n",
            "1.2169201963802517e+24\t9.266839731887185e+23\t7.322973930230692e+23\t2.905351930672234e+24\t3.623975444072588e+24\t2.533054672951207e+24\t\n",
            "\n"
          ]
        }
      ]
    },
    {
      "cell_type": "code",
      "source": [
        "#10\n",
        "d = numpy.array([[2.7, 4, -3, 3], [2, -16, -9, 0], [8, -5, -3, -4], [2, 0,  -1.7, -1.7]])\n",
        "e = numpy.array([2, 8, 0, -4])\n",
        "x = numpy.linalg.solve(d, e)\n",
        "print(x)\n"
      ],
      "metadata": {
        "colab": {
          "base_uri": "https://localhost:8080/"
        },
        "id": "sTA38ixHKW4U",
        "outputId": "87c511e4-5c7f-41b0-965b-d6d9f76cf99d"
      },
      "execution_count": 137,
      "outputs": [
        {
          "output_type": "stream",
          "name": "stdout",
          "text": [
            "[ 0.95142621 -1.02616461  1.14683179  2.32543434]\n"
          ]
        }
      ]
    }
  ]
}