{
  "nbformat": 4,
  "nbformat_minor": 0,
  "metadata": {
    "colab": {
      "provenance": [],
      "authorship_tag": "ABX9TyMU45fB+lptwmpcq+iUcS0H",
      "include_colab_link": true
    },
    "kernelspec": {
      "name": "python3",
      "display_name": "Python 3"
    },
    "language_info": {
      "name": "python"
    }
  },
  "cells": [
    {
      "cell_type": "markdown",
      "metadata": {
        "id": "view-in-github",
        "colab_type": "text"
      },
      "source": [
        "<a href=\"https://colab.research.google.com/github/MaksimSmolenkov/3/blob/main/a2.ipynb\" target=\"_parent\"><img src=\"https://colab.research.google.com/assets/colab-badge.svg\" alt=\"Open In Colab\"/></a>"
      ]
    },
    {
      "cell_type": "code",
      "execution_count": null,
      "metadata": {
        "id": "0hUm9KQIMTif"
      },
      "outputs": [],
      "source": [
        "#4,5,6\n",
        "from scipy import stats\n",
        "a = np.round(np.random.uniform(-20,20,100))\n",
        "b = np.round(np.random.normal(scale=6, size=100))\n",
        "Mean_a, Mean_b = np.mean(a), np.mean(b)\n",
        "Mode_a, Mode_b = stats.mode(a), stats.mode(b)\n",
        "Median_a, Median_b = np.median(a), np.median(b)\n",
        "Min_a, Min_b = np.min(a), np.min(b)\n",
        "Max_a, Max_b = np.max(a), np.max(b)\n",
        "Std_a, Std_b = np.std(a), np.std(b)\n",
        "Chisquare_b = stats.chisquare(b)\n",
        "print(\"a:\", a,\"\\nb:\", b)\n",
        "print(\"\\nСреднее значение a:\", Mean_a,\"\\nСреднее значение b:\", Mean_b, \"\\n\")\n",
        "print(\"Мода а:\", Mode_a, \"\\nМода b:\", Mode_b, \"\\n\")\n",
        "print(\"Медиана а:\", Median_a, \"\\nМедиана b:\", Median_b,\"\\n\")\n",
        "print(\"Минимум a:\", Min_a, \"\\nМинимум b:\", Min_b,\"\\n\")\n",
        "print(\"Максимум a:\", Max_a, \"\\nМаксимум b:\", Max_b,\"\\n\")\n",
        "print(\"Стандартное отклонение a:\", Std_a, \"\\nСтандартное отклонение b:\", Std_b,\"\\n\")\n",
        "print(\"Метод хи-квадрат:\", Chisquare_b, stats.chisquare(a))"
      ]
    }
  ]
}