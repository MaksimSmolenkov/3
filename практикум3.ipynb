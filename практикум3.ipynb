{
  "nbformat": 4,
  "nbformat_minor": 0,
  "metadata": {
    "colab": {
      "provenance": [],
      "authorship_tag": "ABX9TyPyrQjCG/T3Yxv4P07A48lb",
      "include_colab_link": true
    },
    "kernelspec": {
      "name": "python3",
      "display_name": "Python 3"
    },
    "language_info": {
      "name": "python"
    }
  },
  "cells": [
    {
      "cell_type": "markdown",
      "metadata": {
        "id": "view-in-github",
        "colab_type": "text"
      },
      "source": [
        "<a href=\"https://colab.research.google.com/github/MaksimSmolenkov/3/blob/main/%D0%BF%D1%80%D0%B0%D0%BA%D1%82%D0%B8%D0%BA%D1%83%D0%BC3.ipynb\" target=\"_parent\"><img src=\"https://colab.research.google.com/assets/colab-badge.svg\" alt=\"Open In Colab\"/></a>"
      ]
    },
    {
      "cell_type": "code",
      "execution_count": 2,
      "metadata": {
        "id": "BHo3XQaB7nBF"
      },
      "outputs": [],
      "source": [
        "import numpy\n",
        "import scipy"
      ]
    },
    {
      "cell_type": "code",
      "source": [
        "def matout(mat, name):\n",
        "  print(f'{name} = ')\n",
        "  for row in mat:\n",
        "    for e in row:\n",
        "      print(round(e,4), end = '\\t')\n",
        "    print()\n",
        "  print()\n"
      ],
      "metadata": {
        "id": "gDIxQ6KIUNww"
      },
      "execution_count": 5,
      "outputs": []
    },
    {
      "cell_type": "code",
      "source": [
        "x = numpy.array([[2.7, 4, -3, 3], [2, -16, -9, 0], [8, -5, -3, -4], [2, 0, -1.7, -1.7]])\n",
        "p, l, u = scipy.linalg.lu(x)\n",
        "matout(p, 'P')\n",
        "matout(l, 'L')\n",
        "matout(u, 'U')# недоделали даже Lu тут l = l с индексом 0 , а надо найти обратную (l-1) иначе это не lu, но зато есть p"
      ],
      "metadata": {
        "colab": {
          "base_uri": "https://localhost:8080/"
        },
        "id": "qHIBVw_g95JQ",
        "outputId": "6db8b65f-d668-4966-d479-7c86752e9943"
      },
      "execution_count": 6,
      "outputs": [
        {
          "output_type": "stream",
          "name": "stdout",
          "text": [
            "P = \n",
            "0.0\t0.0\t1.0\t0.0\t\n",
            "0.0\t1.0\t0.0\t0.0\t\n",
            "1.0\t0.0\t0.0\t0.0\t\n",
            "0.0\t0.0\t0.0\t1.0\t\n",
            "\n",
            "L = \n",
            "1.0\t0.0\t0.0\t0.0\t\n",
            "0.25\t1.0\t0.0\t0.0\t\n",
            "0.3375\t-0.3856\t1.0\t0.0\t\n",
            "0.25\t-0.0847\t0.3191\t1.0\t\n",
            "\n",
            "U = \n",
            "8.0\t-5.0\t-3.0\t-4.0\t\n",
            "0.0\t-14.75\t-8.25\t1.0\t\n",
            "0.0\t0.0\t-5.1686\t4.7356\t\n",
            "0.0\t0.0\t0.0\t-2.1262\t\n",
            "\n"
          ]
        }
      ]
    }
  ]
}