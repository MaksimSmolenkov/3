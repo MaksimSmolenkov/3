{
  "nbformat": 4,
  "nbformat_minor": 0,
  "metadata": {
    "colab": {
      "provenance": [],
      "authorship_tag": "ABX9TyPDOS4QM+ESqChzAPxXo7w2",
      "include_colab_link": true
    },
    "kernelspec": {
      "name": "python3",
      "display_name": "Python 3"
    },
    "language_info": {
      "name": "python"
    }
  },
  "cells": [
    {
      "cell_type": "markdown",
      "metadata": {
        "id": "view-in-github",
        "colab_type": "text"
      },
      "source": [
        "<a href=\"https://colab.research.google.com/github/MaksimSmolenkov/3/blob/main/%D0%BF%D1%80%D0%B0%D0%BA%D1%82%D0%B8%D0%BA%D1%83%D0%BC3.ipynb\" target=\"_parent\"><img src=\"https://colab.research.google.com/assets/colab-badge.svg\" alt=\"Open In Colab\"/></a>"
      ]
    },
    {
      "cell_type": "code",
      "execution_count": 1,
      "metadata": {
        "id": "BHo3XQaB7nBF"
      },
      "outputs": [],
      "source": [
        "import numpy\n",
        "import scipy"
      ]
    },
    {
      "cell_type": "code",
      "source": [
        "def matout(mat, name):\n",
        "  print(f'{name} = ')\n",
        "  for row in mat:\n",
        "    for e in row:\n",
        "      print(round(e,4), end = '\\t')\n",
        "    print()\n",
        "  print()\n"
      ],
      "metadata": {
        "id": "gDIxQ6KIUNww"
      },
      "execution_count": 2,
      "outputs": []
    },
    {
      "cell_type": "code",
      "source": [
        "x = numpy.array([[2.7, 4, -3, 3], [2, -16, -9, 0], [8, -5, -3, -4], [2, 0, -1.7, -1.7]])\n",
        "p, l, u = scipy.linalg.lu(x)\n",
        "matout(p, 'P')\n",
        "matout(l, 'L')\n",
        "matout(u, 'U')"
      ],
      "metadata": {
        "colab": {
          "base_uri": "https://localhost:8080/"
        },
        "id": "qHIBVw_g95JQ",
        "outputId": "9c434103-f288-47b3-da05-4001f8173185"
      },
      "execution_count": 3,
      "outputs": [
        {
          "output_type": "stream",
          "name": "stdout",
          "text": [
            "P = \n",
            "0.0\t0.0\t1.0\t0.0\t\n",
            "0.0\t1.0\t0.0\t0.0\t\n",
            "1.0\t0.0\t0.0\t0.0\t\n",
            "0.0\t0.0\t0.0\t1.0\t\n",
            "\n",
            "L = \n",
            "1.0\t0.0\t0.0\t0.0\t\n",
            "0.25\t1.0\t0.0\t0.0\t\n",
            "0.3375\t-0.3856\t1.0\t0.0\t\n",
            "0.25\t-0.0847\t0.3191\t1.0\t\n",
            "\n",
            "U = \n",
            "8.0\t-5.0\t-3.0\t-4.0\t\n",
            "0.0\t-14.75\t-8.25\t1.0\t\n",
            "0.0\t0.0\t-5.1686\t4.7356\t\n",
            "0.0\t0.0\t0.0\t-2.1262\t\n",
            "\n"
          ]
        }
      ]
    },
    {
      "cell_type": "code",
      "source": [
        "detl = numpy.linalg.det(l)  #3\n",
        "detu = numpy.linalg.det(u)\n",
        "invp =  numpy.linalg.inv(p)\n",
        "print(\"Определитель l: \",detl)\n",
        "print(\"Определитель u: \",detu)\n",
        "print(\"Определитиель обратной P\",numpy.linalg.det(invp))\n"
      ],
      "metadata": {
        "colab": {
          "base_uri": "https://localhost:8080/"
        },
        "id": "8E4AtppwUxBP",
        "outputId": "0c53d8d6-b52a-4375-b004-111dfac3b69e"
      },
      "execution_count": 11,
      "outputs": [
        {
          "output_type": "stream",
          "name": "stdout",
          "text": [
            "Определитель l:  1.0\n",
            "Определитель u:  -1296.789999999999\n",
            "Определитиель обратной P -1.0\n"
          ]
        }
      ]
    },
    {
      "cell_type": "code",
      "source": [
        "uniform_sample = numpy.random.randint(low = 0, high = 100, size = 100) #4\n",
        "normal_sample = numpy.random.normal(loc = 50, scale = 10, size = 100).astype(int)\n",
        "print(uniform_sample)\n",
        "print(normal_sample)"
      ],
      "metadata": {
        "colab": {
          "base_uri": "https://localhost:8080/"
        },
        "id": "wOcJClbAWNHW",
        "outputId": "3018191f-8eb1-4fe0-8e42-5689d9f562ef"
      },
      "execution_count": 35,
      "outputs": [
        {
          "output_type": "stream",
          "name": "stdout",
          "text": [
            "[24 89 88 42 62  1 91 53 84 92  8 97 50 36 32 12 40 96  8 93 67 27 76 42\n",
            " 50 97 79 56 95 20 49  3  6 65 50 82 15 52 84 44 82 45 14 14 77  4 56 17\n",
            " 44 28 96 81 19  9 55 57 44 38 86 52 72 26 61 70 93 11 94 75 37 23  1 33\n",
            " 48 44 16 91 85 98 36 52 14 70 34 69 47 78 37 20 50 38  1 54 19 20 13  8\n",
            " 65 37 98  7]\n",
            "[47 58 41 62 48 46 47 56 48 31 64 61 56 44 65 64 47 41 33 51 52 52 39 36\n",
            " 56 28 40 66 70 53 54 57 49 54 54 42 54 45 53 47 53 59 50 64 23 43 48 55\n",
            " 41 29 43 53 48 36 56 48 37 49 50 37 59 44 53 61 47 71 45 49 45 49 36 62\n",
            " 49 49 54 54 20 46 50 44 63 53 44 41 45 41 43 48 55 51 48 32 56 53 53 51\n",
            " 55 64 33 45]\n"
          ]
        }
      ]
    },
    {
      "cell_type": "code",
      "source": [
        "print(uniform_sample.mean())  #5\n",
        "print(numpy.median(uniform_sample))\n",
        "print(uniform_sample.std())\n",
        "print(uniform_sample.min())\n",
        "print(uniform_sample.max())\n",
        "print(scipy.stats.mode(uniform_sample))\n",
        "print()\n",
        "print(normal_sample.mean())\n",
        "print(numpy.median(normal_sample))\n",
        "print(normal_sample.std())\n",
        "print(normal_sample.min())\n",
        "print(normal_sample.max())\n",
        "print(scipy.stats.mode(normal_sample))\n"
      ],
      "metadata": {
        "colab": {
          "base_uri": "https://localhost:8080/"
        },
        "id": "Y-mkYgNgfMXp",
        "outputId": "b602b517-07af-4002-88d8-9c62387999ce"
      },
      "execution_count": 54,
      "outputs": [
        {
          "output_type": "stream",
          "name": "stdout",
          "text": [
            "49.2\n",
            "48.5\n",
            "29.55232647356211\n",
            "1\n",
            "98\n",
            "ModeResult(mode=44, count=4)\n",
            "\n",
            "48.94\n",
            "49.0\n",
            "9.675556831521378\n",
            "20\n",
            "71\n",
            "ModeResult(mode=53, count=8)\n"
          ]
        }
      ]
    },
    {
      "cell_type": "code",
      "source": [
        "expected_frequencies = [100/len(numpy.unique(uniform_sample))] #все неправильно\n",
        "print(scipy.stats.chisquare(uniform_sample, 0.0000000000000001))\n",
        "expected_frequencies = [len(normal_sample)/len(numpy.unique(normal_sample))]\n",
        "print(scipy.stats.chisquare(normal_sample, expected_frequencies))"
      ],
      "metadata": {
        "colab": {
          "base_uri": "https://localhost:8080/",
          "height": 409
        },
        "id": "PN9hRaSojCr0",
        "outputId": "2773d288-e3bd-4cd0-81f8-879391e62adc"
      },
      "execution_count": 74,
      "outputs": [
        {
          "output_type": "error",
          "ename": "ValueError",
          "evalue": "ignored",
          "traceback": [
            "\u001b[0;31m---------------------------------------------------------------------------\u001b[0m",
            "\u001b[0;31mValueError\u001b[0m                                Traceback (most recent call last)",
            "\u001b[0;32m<ipython-input-74-86a678a9ba86>\u001b[0m in \u001b[0;36m<cell line: 2>\u001b[0;34m()\u001b[0m\n\u001b[1;32m      1\u001b[0m \u001b[0mexpected_frequencies\u001b[0m \u001b[0;34m=\u001b[0m \u001b[0;34m[\u001b[0m\u001b[0;36m100\u001b[0m\u001b[0;34m/\u001b[0m\u001b[0mlen\u001b[0m\u001b[0;34m(\u001b[0m\u001b[0mnumpy\u001b[0m\u001b[0;34m.\u001b[0m\u001b[0munique\u001b[0m\u001b[0;34m(\u001b[0m\u001b[0muniform_sample\u001b[0m\u001b[0;34m)\u001b[0m\u001b[0;34m)\u001b[0m\u001b[0;34m]\u001b[0m\u001b[0;34m\u001b[0m\u001b[0;34m\u001b[0m\u001b[0m\n\u001b[0;32m----> 2\u001b[0;31m \u001b[0mprint\u001b[0m\u001b[0;34m(\u001b[0m\u001b[0mscipy\u001b[0m\u001b[0;34m.\u001b[0m\u001b[0mstats\u001b[0m\u001b[0;34m.\u001b[0m\u001b[0mchisquare\u001b[0m\u001b[0;34m(\u001b[0m\u001b[0muniform_sample\u001b[0m\u001b[0;34m,\u001b[0m \u001b[0;36m0.0000000000000001\u001b[0m\u001b[0;34m)\u001b[0m\u001b[0;34m)\u001b[0m\u001b[0;34m\u001b[0m\u001b[0;34m\u001b[0m\u001b[0m\n\u001b[0m\u001b[1;32m      3\u001b[0m \u001b[0mexpected_frequencies\u001b[0m \u001b[0;34m=\u001b[0m \u001b[0;34m[\u001b[0m\u001b[0mlen\u001b[0m\u001b[0;34m(\u001b[0m\u001b[0mnormal_sample\u001b[0m\u001b[0;34m)\u001b[0m\u001b[0;34m/\u001b[0m\u001b[0mlen\u001b[0m\u001b[0;34m(\u001b[0m\u001b[0mnumpy\u001b[0m\u001b[0;34m.\u001b[0m\u001b[0munique\u001b[0m\u001b[0;34m(\u001b[0m\u001b[0mnormal_sample\u001b[0m\u001b[0;34m)\u001b[0m\u001b[0;34m)\u001b[0m\u001b[0;34m]\u001b[0m\u001b[0;34m\u001b[0m\u001b[0;34m\u001b[0m\u001b[0m\n\u001b[1;32m      4\u001b[0m \u001b[0mprint\u001b[0m\u001b[0;34m(\u001b[0m\u001b[0mscipy\u001b[0m\u001b[0;34m.\u001b[0m\u001b[0mstats\u001b[0m\u001b[0;34m.\u001b[0m\u001b[0mchisquare\u001b[0m\u001b[0;34m(\u001b[0m\u001b[0mnormal_sample\u001b[0m\u001b[0;34m,\u001b[0m \u001b[0mexpected_frequencies\u001b[0m\u001b[0;34m)\u001b[0m\u001b[0;34m)\u001b[0m\u001b[0;34m\u001b[0m\u001b[0;34m\u001b[0m\u001b[0m\n",
            "\u001b[0;32m/usr/local/lib/python3.10/dist-packages/scipy/stats/_stats_py.py\u001b[0m in \u001b[0;36mchisquare\u001b[0;34m(f_obs, f_exp, ddof, axis)\u001b[0m\n\u001b[1;32m   8252\u001b[0m \u001b[0;34m\u001b[0m\u001b[0m\n\u001b[1;32m   8253\u001b[0m     \"\"\"  # noqa\n\u001b[0;32m-> 8254\u001b[0;31m     return power_divergence(f_obs, f_exp=f_exp, ddof=ddof, axis=axis,\n\u001b[0m\u001b[1;32m   8255\u001b[0m                             lambda_=\"pearson\")\n\u001b[1;32m   8256\u001b[0m \u001b[0;34m\u001b[0m\u001b[0m\n",
            "\u001b[0;32m/usr/local/lib/python3.10/dist-packages/scipy/stats/_stats_py.py\u001b[0m in \u001b[0;36mpower_divergence\u001b[0;34m(f_obs, f_exp, ddof, axis, lambda_)\u001b[0m\n\u001b[1;32m   8049\u001b[0m                    \u001b[0;34mf\"of {rtol}, but the percent differences are:\\n\"\u001b[0m\u001b[0;34m\u001b[0m\u001b[0;34m\u001b[0m\u001b[0m\n\u001b[1;32m   8050\u001b[0m                    f\"{relative_diff}\")\n\u001b[0;32m-> 8051\u001b[0;31m             \u001b[0;32mraise\u001b[0m \u001b[0mValueError\u001b[0m\u001b[0;34m(\u001b[0m\u001b[0mmsg\u001b[0m\u001b[0;34m)\u001b[0m\u001b[0;34m\u001b[0m\u001b[0;34m\u001b[0m\u001b[0m\n\u001b[0m\u001b[1;32m   8052\u001b[0m \u001b[0;34m\u001b[0m\u001b[0m\n\u001b[1;32m   8053\u001b[0m     \u001b[0;32melse\u001b[0m\u001b[0;34m:\u001b[0m\u001b[0;34m\u001b[0m\u001b[0;34m\u001b[0m\u001b[0m\n",
            "\u001b[0;31mValueError\u001b[0m: For each axis slice, the sum of the observed frequencies must agree with the sum of the expected frequencies to a relative tolerance of 1e-08, but the percent differences are:\n4.92e+17"
          ]
        }
      ]
    }
  ]
}