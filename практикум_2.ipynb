{
  "nbformat": 4,
  "nbformat_minor": 0,
  "metadata": {
    "colab": {
      "provenance": [],
      "authorship_tag": "ABX9TyNfo43wynKQMl39PDRj3xhM",
      "include_colab_link": true
    },
    "kernelspec": {
      "name": "python3",
      "display_name": "Python 3"
    },
    "language_info": {
      "name": "python"
    }
  },
  "cells": [
    {
      "cell_type": "markdown",
      "metadata": {
        "id": "view-in-github",
        "colab_type": "text"
      },
      "source": [
        "<a href=\"https://colab.research.google.com/github/MaksimSmolenkov/3/blob/main/%D0%BF%D1%80%D0%B0%D0%BA%D1%82%D0%B8%D0%BA%D1%83%D0%BC_2.ipynb\" target=\"_parent\"><img src=\"https://colab.research.google.com/assets/colab-badge.svg\" alt=\"Open In Colab\"/></a>"
      ]
    },
    {
      "cell_type": "code",
      "execution_count": null,
      "metadata": {
        "id": "kdVyVpH95Vqk"
      },
      "outputs": [],
      "source": [
        "import scipy\n",
        "import numpy\n",
        "import sympy\n",
        "from scipy.optimize import minimize"
      ]
    },
    {
      "cell_type": "code",
      "source": [
        "def f(x):         #1 задание\n",
        "  return 2/(sympy.tan(x))\n",
        "print(scipy.misc.derivative(f, 1.0, n = 1, dx=1e-6))\n",
        "print(scipy.misc.derivative(f, 1.0, n = 2, dx=1e-6))"
      ],
      "metadata": {
        "colab": {
          "base_uri": "https://localhost:8080/"
        },
        "id": "1k2bIcoqwABP",
        "outputId": "47a56186-a3f8-48cf-ef2d-94f9aa135215"
      },
      "execution_count": null,
      "outputs": [
        {
          "output_type": "stream",
          "name": "stdout",
          "text": [
            "-2.82456585476432\n",
            "3.62776475526516\n"
          ]
        },
        {
          "output_type": "stream",
          "name": "stderr",
          "text": [
            "<ipython-input-31-5300de45d88f>:3: DeprecationWarning: scipy.misc.derivative is deprecated in SciPy v1.10.0; and will be completely removed in SciPy v1.12.0. You may consider using findiff: https://github.com/maroba/findiff or numdifftools: https://github.com/pbrod/numdifftools\n",
            "  print(scipy.misc.derivative(f, 1.0, n = 1, dx=1e-6))\n",
            "<ipython-input-31-5300de45d88f>:4: DeprecationWarning: scipy.misc.derivative is deprecated in SciPy v1.10.0; and will be completely removed in SciPy v1.12.0. You may consider using findiff: https://github.com/maroba/findiff or numdifftools: https://github.com/pbrod/numdifftools\n",
            "  print(scipy.misc.derivative(f, 1.0, n = 2, dx=1e-6))\n"
          ]
        }
      ]
    },
    {
      "cell_type": "code",
      "source": [
        "x = sympy.symbols('x')     #2 задание\n",
        "g = 2/(sympy.tan(x))\n",
        "sympy.diff(g, x)"
      ],
      "metadata": {
        "colab": {
          "base_uri": "https://localhost:8080/",
          "height": 60
        },
        "id": "Qux2rCZowJ2n",
        "outputId": "832e20ae-d945-4227-bc6d-1a40eb810bf5"
      },
      "execution_count": null,
      "outputs": [
        {
          "output_type": "execute_result",
          "data": {
            "text/plain": [
              "2*(-tan(x)**2 - 1)/tan(x)**2"
            ],
            "text/latex": "$\\displaystyle \\frac{2 \\left(- \\tan^{2}{\\left(x \\right)} - 1\\right)}{\\tan^{2}{\\left(x \\right)}}$"
          },
          "metadata": {},
          "execution_count": 52
        }
      ]
    },
    {
      "cell_type": "code",
      "source": [
        "def integral(a, b, n): #3\n",
        "  h = (b-a)/n   #шаг разбиения на прямоугольники\n",
        "  x = numpy.linspace(a, b, n)   #равномерные числовые пробелы\n",
        "  y = [f(i) for i in x]\n",
        "  return h * numpy.sum(y)\n",
        "\n",
        "print(integral(4, 6, 1000))"
      ],
      "metadata": {
        "colab": {
          "base_uri": "https://localhost:8080/"
        },
        "id": "z-zi_0X02QDR",
        "outputId": "f936cf80-2b25-4392-f95a-01a73d892c52"
      },
      "execution_count": null,
      "outputs": [
        {
          "output_type": "stream",
          "name": "stdout",
          "text": [
            "-1.99596470139380\n"
          ]
        }
      ]
    },
    {
      "cell_type": "code",
      "source": [
        "print(sympy.integrate(g, x)) #4"
      ],
      "metadata": {
        "colab": {
          "base_uri": "https://localhost:8080/"
        },
        "id": "s5KSkkvc6Atx",
        "outputId": "f502875a-e139-4136-8412-d2d86e888865"
      },
      "execution_count": null,
      "outputs": [
        {
          "output_type": "stream",
          "name": "stdout",
          "text": [
            "2*log(sin(x))\n"
          ]
        }
      ]
    },
    {
      "cell_type": "code",
      "source": [
        "#5 недодедално\n",
        "def func(x1, x2, x3):\n",
        "  return (x1 - 1.5)**2 + (x2 - 2) + (x3 - 2.5)**2\n",
        "\n"
      ],
      "metadata": {
        "id": "flTfRV8iAssj"
      },
      "execution_count": null,
      "outputs": []
    }
  ]
}